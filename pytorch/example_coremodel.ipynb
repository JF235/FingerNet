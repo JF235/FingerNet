{
 "cells": [
  {
   "cell_type": "code",
   "execution_count": null,
   "id": "7da9569e",
   "metadata": {},
   "outputs": [],
   "source": [
    "%load_ext autoreload\n",
    "%autoreload 2"
   ]
  },
  {
   "cell_type": "code",
   "execution_count": null,
   "id": "9e8cc92e",
   "metadata": {},
   "outputs": [],
   "source": [
    "from PIL import Image\n",
    "import torch\n",
    "import numpy as np\n",
    "import matplotlib.pyplot as plt\n",
    "\n",
    "import fingernet as fnet"
   ]
  },
  {
   "cell_type": "code",
   "execution_count": null,
   "id": "717d19b7",
   "metadata": {},
   "outputs": [],
   "source": [
    "# Get a single image\n",
    "#img_path = \"../datasets/NISTSD27/images/B101L9U.bmp\"\n",
    "img_path = \"../datasets/NIST14/F0000001.bmp\"\n",
    "img = Image.open(img_path)\n",
    "img.resize((256, 256))"
   ]
  },
  {
   "cell_type": "code",
   "execution_count": null,
   "id": "415d37f2",
   "metadata": {},
   "outputs": [],
   "source": [
    "# Core Model\n",
    "weights = \"../models/released_version/Model.pth\"\n",
    "device = \"cuda\" if torch.cuda.is_available() else \"cpu\"\n",
    "model: fnet.FingerNet = fnet.get_fingernet_core(weights, device)\n",
    "\n",
    "tensor_int8 = torch.from_numpy(np.array(img)).unsqueeze(0).unsqueeze(0).to(device)\n",
    "tensor_float32 = tensor_int8.float() / 255.0"
   ]
  },
  {
   "cell_type": "code",
   "execution_count": null,
   "id": "e81224f6",
   "metadata": {},
   "outputs": [],
   "source": [
    "with torch.no_grad():\n",
    "    output_core = model(tensor_float32)"
   ]
  },
  {
   "cell_type": "code",
   "execution_count": null,
   "id": "34431c81",
   "metadata": {},
   "outputs": [],
   "source": [
    "for k, e in output_core.items():\n",
    "    print(k, end=\" \")\n",
    "    output_core[k] = e.detach().squeeze().cpu().numpy()"
   ]
  }
 ],
 "metadata": {
  "kernelspec": {
   "display_name": "grids",
   "language": "python",
   "name": "python3"
  },
  "language_info": {
   "codemirror_mode": {
    "name": "ipython",
    "version": 3
   },
   "file_extension": ".py",
   "mimetype": "text/x-python",
   "name": "python",
   "nbconvert_exporter": "python",
   "pygments_lexer": "ipython3",
   "version": "3.12.11"
  }
 },
 "nbformat": 4,
 "nbformat_minor": 5
}

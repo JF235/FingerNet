{
 "cells": [
  {
   "cell_type": "code",
   "execution_count": null,
   "id": "f3c285d6",
   "metadata": {},
   "outputs": [],
   "source": [
    "%reload_ext autoreload\n",
    "%autoreload 2"
   ]
  },
  {
   "cell_type": "code",
   "execution_count": null,
   "id": "7cdd2824",
   "metadata": {},
   "outputs": [],
   "source": [
    "import os\n",
    "import torch\n",
    "import numpy as np\n",
    "from PIL import Image\n",
    "import matplotlib.pyplot as plt\n",
    "\n",
    "import fingernet\n",
    "\n",
    "# Comando \"mágico\" para garantir que os plots apareçam no notebook\n",
    "%matplotlib inline"
   ]
  },
  {
   "cell_type": "code",
   "execution_count": null,
   "id": "86bb80f3",
   "metadata": {},
   "outputs": [],
   "source": [
    "# --- Substitua pelo caminho correto para os pesos do seu modelo ---\n",
    "WEIGHTS_PATH = \"../models/released_version/Model.pth\"\n",
    "# ----------------------------------------------------------------\n",
    "\n",
    "# Caminho para a imagem de exemplo.\n",
    "# Se esta imagem não existir, uma imagem de teste será criada.\n",
    "IMAGE_PATH = \"/storage/standard/fingerprints/SD258/images/orig/000/01/sd258_000_11-01_template_bad.png\"\n",
    "\n",
    "# Exibe a imagem que será usada\n",
    "print(f\"Usando a imagem: {IMAGE_PATH}\")\n",
    "plt.imshow(Image.open(IMAGE_PATH), cmap='gray')\n",
    "plt.title(\"Imagem de Entrada\")\n",
    "plt.axis('off')\n",
    "plt.show()"
   ]
  },
  {
   "cell_type": "code",
   "execution_count": null,
   "id": "20c8d050",
   "metadata": {},
   "outputs": [],
   "source": [
    "model = fingernet.get_fingernet(weights_path=WEIGHTS_PATH)"
   ]
  },
  {
   "cell_type": "code",
   "execution_count": null,
   "id": "d1c2a7d0",
   "metadata": {},
   "outputs": [],
   "source": [
    "device = torch.device(\"cuda\" if torch.cuda.is_available() else \"cpu\")\n",
    "\n",
    "# Carrega a imagem, converte para tons de cinza e normaliza para [0, 1]\n",
    "img_pil = Image.open(IMAGE_PATH).convert('L')\n",
    "img_np = np.array(img_pil, dtype=np.float32) / 255.0\n",
    "\n",
    "# Converte para tensor, adiciona as dimensões de lote e canal, e move para o dispositivo\n",
    "input_tensor = torch.from_numpy(img_np).unsqueeze(0).unsqueeze(0).to(device)\n",
    "\n",
    "print(f\"Formato do tensor de entrada: {input_tensor.shape}\")\n",
    "print(f\"Dispositivo do tensor: {input_tensor.device}\")"
   ]
  },
  {
   "cell_type": "code",
   "execution_count": null,
   "id": "36962fa0",
   "metadata": {},
   "outputs": [],
   "source": [
    "results = model(input_tensor)\n",
    "\n",
    "# Vamos inspecionar as chaves do dicionário de resultados\n",
    "print(\"Chaves do dicionário de resultados:\", results.keys())\n",
    "print(\"\\nNúmero de minúcias detectadas:\", len(results['minutiae'][0]))"
   ]
  },
  {
   "cell_type": "code",
   "execution_count": null,
   "id": "c06aa533",
   "metadata": {},
   "outputs": [],
   "source": [
    "# Prepara o dicionário de dados para a função de plotagem\n",
    "# Move os tensores da GPU para a CPU e converte para NumPy\n",
    "plot_data = {\n",
    "    'input_path': IMAGE_PATH,\n",
    "    'minutiae': results['minutiae'][0].cpu().numpy(),\n",
    "    'enhanced_image': results['enhanced_image'][0].cpu().numpy(),\n",
    "    'orientation_field': results['orientation_field'][0].cpu().numpy(),\n",
    "    # A máscara não é usada por plot_output, então podemos omiti-la\n",
    "}\n",
    "\n",
    "# Gera e exibe o plot com todos os resultados\n",
    "fingernet.plot_output(plot_data)"
   ]
  },
  {
   "cell_type": "code",
   "execution_count": null,
   "id": "704eab5e",
   "metadata": {},
   "outputs": [],
   "source": [
    "#input_image = input_tensor.squeeze().cpu().numpy()\n",
    "input_image = results['enhanced_image'][0].cpu().numpy()\n",
    "fig, ax = plt.subplots(1, 1, figsize=(10, 10))\n",
    "fingernet.plot_input(ax, input_image)\n",
    "fingernet.plot_mnt(ax, results['minutiae'][0].cpu().numpy())"
   ]
  },
  {
   "cell_type": "code",
   "execution_count": null,
   "id": "6fdb2485",
   "metadata": {},
   "outputs": [],
   "source": []
  }
 ],
 "metadata": {
  "kernelspec": {
   "display_name": "grids",
   "language": "python",
   "name": "python3"
  },
  "language_info": {
   "codemirror_mode": {
    "name": "ipython",
    "version": 3
   },
   "file_extension": ".py",
   "mimetype": "text/x-python",
   "name": "python",
   "nbconvert_exporter": "python",
   "pygments_lexer": "ipython3",
   "version": "3.12.11"
  }
 },
 "nbformat": 4,
 "nbformat_minor": 5
}

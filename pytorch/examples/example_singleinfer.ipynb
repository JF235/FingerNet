{
 "cells": [
  {
   "cell_type": "code",
   "execution_count": null,
   "id": "1acd8f53",
   "metadata": {},
   "outputs": [],
   "source": [
    "%load_ext autoreload\n",
    "%autoreload 2"
   ]
  },
  {
   "cell_type": "code",
   "execution_count": null,
   "id": "431f53c5",
   "metadata": {},
   "outputs": [],
   "source": [
    "from PIL import Image\n",
    "import torch\n",
    "import numpy as np\n",
    "import matplotlib.pyplot as plt\n",
    "\n",
    "import fingernet as fnet"
   ]
  },
  {
   "cell_type": "code",
   "execution_count": null,
   "id": "a5e733a2",
   "metadata": {},
   "outputs": [],
   "source": [
    "# Get a single image\n",
    "#img_path = \"../datasets/NISTSD27/images/B101L9U.bmp\"\n",
    "img_path = \"../datasets/NIST14/F0000001.bmp\"\n",
    "img = Image.open(img_path)\n",
    "img.resize((256, 256))"
   ]
  },
  {
   "cell_type": "code",
   "execution_count": null,
   "id": "0741d82e",
   "metadata": {},
   "outputs": [],
   "source": [
    "weights = \"../models/released_version/Model.pth\"\n",
    "device = \"cuda\" if torch.cuda.is_available() else \"cpu\"\n",
    "\n",
    "model: fnet.FingerNetWrapper = fnet.get_fingernet(weights_path=weights, device=device)\n",
    "\n",
    "to_tensor = lambda x: torch.from_numpy(np.array(x)).unsqueeze(0).unsqueeze(0).float().to(device) / 255.0\n",
    "input_tensor = to_tensor(img)"
   ]
  },
  {
   "cell_type": "code",
   "execution_count": null,
   "id": "dc513a54",
   "metadata": {},
   "outputs": [],
   "source": [
    "with torch.no_grad():\n",
    "    fnet_output = model(input_tensor)"
   ]
  },
  {
   "cell_type": "code",
   "execution_count": null,
   "id": "b50e7bc5",
   "metadata": {},
   "outputs": [],
   "source": [
    "for k, e in fnet_output.items():\n",
    "    print(k, end=\" \")\n",
    "    if isinstance(e, torch.Tensor):\n",
    "        fnet_output[k] = e.detach().cpu().numpy()\n",
    "    elif isinstance(e, list):\n",
    "        for i in range(len(e)):\n",
    "            if isinstance(e[i], torch.Tensor):\n",
    "                e[i] = e[i].detach().cpu().numpy()\n",
    "        fnet_output[k] = e\n",
    "fnet_output['input_path'] = img_path"
   ]
  },
  {
   "cell_type": "code",
   "execution_count": null,
   "id": "66673f43",
   "metadata": {},
   "outputs": [],
   "source": [
    "fnet.plot_output(fnet_output, figsize=(15, 5))"
   ]
  }
 ],
 "metadata": {
  "kernelspec": {
   "display_name": "grids",
   "language": "python",
   "name": "python3"
  },
  "language_info": {
   "codemirror_mode": {
    "name": "ipython",
    "version": 3
   },
   "file_extension": ".py",
   "mimetype": "text/x-python",
   "name": "python",
   "nbconvert_exporter": "python",
   "pygments_lexer": "ipython3",
   "version": "3.12.11"
  }
 },
 "nbformat": 4,
 "nbformat_minor": 5
}

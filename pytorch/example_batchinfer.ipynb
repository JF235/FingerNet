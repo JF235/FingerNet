{
 "cells": [
  {
   "cell_type": "code",
   "execution_count": null,
   "id": "3094e574",
   "metadata": {},
   "outputs": [],
   "source": [
    "%load_ext autoreload\n",
    "%autoreload 2"
   ]
  },
  {
   "cell_type": "code",
   "execution_count": null,
   "id": "8ad74f7b",
   "metadata": {},
   "outputs": [],
   "source": [
    "import fingernet as fnet"
   ]
  },
  {
   "cell_type": "code",
   "execution_count": null,
   "id": "50ca6b6e",
   "metadata": {},
   "outputs": [],
   "source": [
    "fnet.run_lightning_inference(\n",
    "    \"/storage/jcontreras/data/datasets/BP2k/orig/\",\n",
    "    \"../output\",\n",
    "    \"../models/released_version/Model.pth\",\n",
    "    batch_size = 1,\n",
    "    recursive = True,\n",
    "    num_cores = 12,\n",
    "    devices = [1]\n",
    ")"
   ]
  },
  {
   "cell_type": "code",
   "execution_count": null,
   "id": "7bc6a9fb",
   "metadata": {},
   "outputs": [],
   "source": []
  }
 ],
 "metadata": {
  "kernelspec": {
   "display_name": "grids",
   "language": "python",
   "name": "python3"
  },
  "language_info": {
   "codemirror_mode": {
    "name": "ipython",
    "version": 3
   },
   "file_extension": ".py",
   "mimetype": "text/x-python",
   "name": "python",
   "nbconvert_exporter": "python",
   "pygments_lexer": "ipython3",
   "version": "3.12.11"
  }
 },
 "nbformat": 4,
 "nbformat_minor": 5
}
